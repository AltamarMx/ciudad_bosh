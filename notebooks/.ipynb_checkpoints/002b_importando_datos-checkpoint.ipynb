{
 "cells": [
  {
   "cell_type": "code",
   "execution_count": 1,
   "id": "e27bea67-df28-4467-9446-8205909d4591",
   "metadata": {},
   "outputs": [],
   "source": [
    "import pandas as pd\n",
    "import matplotlib.pyplot as plt"
   ]
  },
  {
   "cell_type": "code",
   "execution_count": 2,
   "id": "22e2acbd-6d94-4f42-981e-affec42fdd1a",
   "metadata": {},
   "outputs": [],
   "source": [
    "f = '../data/Recámara Principal.csv'\n",
    "rec = pd.read_csv(f,skiprows=10,usecols=[1,3,5])\n",
    "rec.TIME = pd.to_datetime(rec.TIME,format='%m/%d/%y %H:%M:%S')\n",
    "rec.set_index('TIME',inplace=True)\n",
    "rec.Temp = rec['Temp'].str.extract(r'(\\d+\\.\\d+)').astype(float)\n",
    "rec.RH = rec['RH'].str.extract(r'(\\d+\\.\\d+)').astype(float)"
   ]
  },
  {
   "cell_type": "code",
   "execution_count": 3,
   "id": "fe48c821-0133-469f-a58e-1d4808f6dbe0",
   "metadata": {},
   "outputs": [],
   "source": [
    "rec.to_csv('../data/002_processed/Recamara_principal.csv')"
   ]
  },
  {
   "cell_type": "code",
   "execution_count": 4,
   "id": "09eb250d-80d7-48d9-bf1c-8d6816120d87",
   "metadata": {},
   "outputs": [
    {
     "data": {
      "text/html": [
       "<div>\n",
       "<style scoped>\n",
       "    .dataframe tbody tr th:only-of-type {\n",
       "        vertical-align: middle;\n",
       "    }\n",
       "\n",
       "    .dataframe tbody tr th {\n",
       "        vertical-align: top;\n",
       "    }\n",
       "\n",
       "    .dataframe thead th {\n",
       "        text-align: right;\n",
       "    }\n",
       "</style>\n",
       "<table border=\"1\" class=\"dataframe\">\n",
       "  <thead>\n",
       "    <tr style=\"text-align: right;\">\n",
       "      <th></th>\n",
       "      <th>Temp</th>\n",
       "      <th>RH</th>\n",
       "    </tr>\n",
       "    <tr>\n",
       "      <th>TIME</th>\n",
       "      <th></th>\n",
       "      <th></th>\n",
       "    </tr>\n",
       "  </thead>\n",
       "  <tbody>\n",
       "    <tr>\n",
       "      <th>2024-02-09 12:37:43</th>\n",
       "      <td>24.4</td>\n",
       "      <td>55.8</td>\n",
       "    </tr>\n",
       "    <tr>\n",
       "      <th>2024-02-09 13:37:43</th>\n",
       "      <td>25.7</td>\n",
       "      <td>50.7</td>\n",
       "    </tr>\n",
       "    <tr>\n",
       "      <th>2024-02-09 14:37:43</th>\n",
       "      <td>26.3</td>\n",
       "      <td>50.6</td>\n",
       "    </tr>\n",
       "    <tr>\n",
       "      <th>2024-02-09 15:37:43</th>\n",
       "      <td>27.0</td>\n",
       "      <td>51.6</td>\n",
       "    </tr>\n",
       "    <tr>\n",
       "      <th>2024-02-09 16:37:43</th>\n",
       "      <td>26.6</td>\n",
       "      <td>50.7</td>\n",
       "    </tr>\n",
       "    <tr>\n",
       "      <th>...</th>\n",
       "      <td>...</td>\n",
       "      <td>...</td>\n",
       "    </tr>\n",
       "    <tr>\n",
       "      <th>2024-04-04 11:37:43</th>\n",
       "      <td>26.3</td>\n",
       "      <td>54.4</td>\n",
       "    </tr>\n",
       "    <tr>\n",
       "      <th>2024-04-04 12:37:43</th>\n",
       "      <td>26.4</td>\n",
       "      <td>57.4</td>\n",
       "    </tr>\n",
       "    <tr>\n",
       "      <th>2024-04-04 13:37:43</th>\n",
       "      <td>26.5</td>\n",
       "      <td>57.1</td>\n",
       "    </tr>\n",
       "    <tr>\n",
       "      <th>2024-04-04 14:37:43</th>\n",
       "      <td>26.7</td>\n",
       "      <td>58.9</td>\n",
       "    </tr>\n",
       "    <tr>\n",
       "      <th>2024-04-04 15:37:43</th>\n",
       "      <td>27.4</td>\n",
       "      <td>64.8</td>\n",
       "    </tr>\n",
       "  </tbody>\n",
       "</table>\n",
       "<p>1324 rows × 2 columns</p>\n",
       "</div>"
      ],
      "text/plain": [
       "                     Temp    RH\n",
       "TIME                           \n",
       "2024-02-09 12:37:43  24.4  55.8\n",
       "2024-02-09 13:37:43  25.7  50.7\n",
       "2024-02-09 14:37:43  26.3  50.6\n",
       "2024-02-09 15:37:43  27.0  51.6\n",
       "2024-02-09 16:37:43  26.6  50.7\n",
       "...                   ...   ...\n",
       "2024-04-04 11:37:43  26.3  54.4\n",
       "2024-04-04 12:37:43  26.4  57.4\n",
       "2024-04-04 13:37:43  26.5  57.1\n",
       "2024-04-04 14:37:43  26.7  58.9\n",
       "2024-04-04 15:37:43  27.4  64.8\n",
       "\n",
       "[1324 rows x 2 columns]"
      ]
     },
     "execution_count": 4,
     "metadata": {},
     "output_type": "execute_result"
    }
   ],
   "source": [
    "rec.sort_index()"
   ]
  },
  {
   "cell_type": "code",
   "execution_count": null,
   "id": "4269551e-27bc-49cd-ac3b-e11b84ad2fda",
   "metadata": {},
   "outputs": [],
   "source": []
  }
 ],
 "metadata": {
  "kernelspec": {
   "display_name": "Python 3 (ipykernel)",
   "language": "python",
   "name": "python3"
  },
  "language_info": {
   "codemirror_mode": {
    "name": "ipython",
    "version": 3
   },
   "file_extension": ".py",
   "mimetype": "text/x-python",
   "name": "python",
   "nbconvert_exporter": "python",
   "pygments_lexer": "ipython3",
   "version": "3.12.3"
  }
 },
 "nbformat": 4,
 "nbformat_minor": 5
}
