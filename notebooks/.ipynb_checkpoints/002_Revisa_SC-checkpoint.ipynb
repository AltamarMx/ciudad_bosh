{
 "cells": [
  {
   "cell_type": "code",
   "execution_count": 11,
   "id": "16cf99ba-6a36-4ca0-95cc-dab580bcdeb8",
   "metadata": {},
   "outputs": [],
   "source": [
    "from iertools.read import read_sql\n",
    "import pandas as pd\n",
    "import openstudio as opns"
   ]
  },
  {
   "cell_type": "code",
   "execution_count": 9,
   "id": "5f94b41c-0e81-4a5d-8e0b-ecbf706a132a",
   "metadata": {},
   "outputs": [],
   "source": [
    "# Cargar el modelo\n",
    "translator = opns.osversion.VersionTranslator()\n",
    "osm = translator.loadModel(\"../osm/010_fixed_subsurfaces.osm\").get()\n",
    "\n",
    "# Obtener todas las construcciones en el modelo\n",
    "scs = osm.getConstructions()\n",
    "surfaces = osm.getSurfaces()\n"
   ]
  },
  {
   "cell_type": "code",
   "execution_count": 10,
   "id": "89d0fa0e-2759-4030-a6bd-2d26b67088d5",
   "metadata": {},
   "outputs": [],
   "source": [
    "lista = ['CAD']\n",
    "for construccion in scs:\n",
    "    capas = construccion.layers()\n",
    "    for capa in capas:\n",
    "        if capa.nameString() in lista:\n",
    "            print(capa)"
   ]
  },
  {
   "cell_type": "code",
   "execution_count": null,
   "id": "c22282d9-fd54-4b2d-96f5-29aec3878fef",
   "metadata": {},
   "outputs": [],
   "source": []
  }
 ],
 "metadata": {
  "kernelspec": {
   "display_name": "Python 3 (ipykernel)",
   "language": "python",
   "name": "python3"
  },
  "language_info": {
   "codemirror_mode": {
    "name": "ipython",
    "version": 3
   },
   "file_extension": ".py",
   "mimetype": "text/x-python",
   "name": "python",
   "nbconvert_exporter": "python",
   "pygments_lexer": "ipython3",
   "version": "3.12.3"
  }
 },
 "nbformat": 4,
 "nbformat_minor": 5
}
