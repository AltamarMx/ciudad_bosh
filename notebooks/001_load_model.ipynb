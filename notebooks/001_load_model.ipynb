{
 "cells": [
  {
   "cell_type": "code",
   "execution_count": 1,
   "metadata": {},
   "outputs": [],
   "source": [
    "import openstudio\n"
   ]
  },
  {
   "cell_type": "code",
   "execution_count": null,
   "metadata": {},
   "outputs": [],
   "source": []
  },
  {
   "cell_type": "code",
   "execution_count": 2,
   "metadata": {},
   "outputs": [
    {
     "name": "stdout",
     "output_type": "stream",
     "text": [
      "['SalaComedor', 'Escaleras', 'Cocina', 'RPrincipal', 'Recamara2', 'Closet', 'Banio2', 'Banio', 'Recamara3', 'Escaleras2']\n"
     ]
    }
   ],
   "source": [
    "translator = openstudio.osversion.VersionTranslator()\n",
    "osm = translator.loadModel(\"../osm/009_condiciones_adiabaticas.osm\").get()\n",
    "zones = [zone.name().get() for zone in openstudio.model.getThermalZones(osm)]\n",
    "print(zones)"
   ]
  },
  {
   "cell_type": "code",
   "execution_count": 3,
   "metadata": {},
   "outputs": [
    {
     "data": {
      "text/plain": [
       "['Face 57',\n",
       " 'Face 53',\n",
       " 'Face 90',\n",
       " 'Face 108',\n",
       " 'Face 59',\n",
       " 'Face 14',\n",
       " 'Face 66',\n",
       " 'Face 3',\n",
       " 'Face 46',\n",
       " 'Face 6',\n",
       " 'Face 61',\n",
       " 'Face 55',\n",
       " 'Face 48',\n",
       " 'Face 86',\n",
       " 'Face 70',\n",
       " 'Face 41',\n",
       " 'Face 80',\n",
       " 'Face 30',\n",
       " 'Face 76',\n",
       " 'Face 36',\n",
       " 'Face 99',\n",
       " 'Face 101',\n",
       " 'Face 92',\n",
       " 'Face 8',\n",
       " 'Face 20',\n",
       " 'Face 18',\n",
       " 'Face 16',\n",
       " 'Face 24']"
      ]
     },
     "execution_count": 3,
     "metadata": {},
     "output_type": "execute_result"
    }
   ],
   "source": [
    "superficies = [superficie.name().get()  for superficie in openstudio.model.getSubSurfaces(osm)]\n",
    "superficies"
   ]
  },
  {
   "cell_type": "code",
   "execution_count": 4,
   "metadata": {},
   "outputs": [
    {
     "name": "stdout",
     "output_type": "stream",
     "text": [
      "Face 48 0 [5.8, 6.6, 2.1]\n",
      "Face 48 1 [5.8, 6.6, 0]\n",
      "Face 48 2 [5.8, 7.3, 0]\n",
      "Face 48 3 [5.8, 7.3, 2.1]\n",
      "Face 57 0 [5.8, 7.3, 2.1]\n",
      "Face 57 1 [5.8, 7.3, 0]\n",
      "Face 57 2 [5.8, 6.6, 0]\n",
      "Face 57 3 [5.8, 6.6, 2.1]\n",
      "Face 36 0 [1.4, 6.3, 2.1]\n",
      "Face 36 1 [1.4, 6.3, 0]\n",
      "Face 36 2 [1.4, 7, 0]\n",
      "Face 36 3 [1.4, 7, 2.1]\n",
      "Face 55 0 [5.8, 6.45, 2.1]\n",
      "Face 55 1 [5.8, 6.45, 0]\n",
      "Face 55 2 [5.8, 5.75, 0]\n",
      "Face 55 3 [5.8, 5.75, 2.1]\n",
      "Face 53 0 [5.85, 5.6, 2.1]\n",
      "Face 53 1 [5.85, 5.6, 0]\n",
      "Face 53 2 [6.55, 5.6, 0]\n",
      "Face 53 3 [6.55, 5.6, 2.1]\n",
      "Face 86 0 [6.55, 4.2, 2.1]\n",
      "Face 86 1 [6.55, 4.2, 0]\n",
      "Face 86 2 [5.85, 4.2, 0]\n",
      "Face 86 3 [5.85, 4.2, 2.1]\n",
      "Face 70 0 [6.6, 5.45, 2.1]\n",
      "Face 70 1 [6.6, 5.45, 0]\n",
      "Face 70 2 [6.6, 4.75, 0]\n",
      "Face 70 3 [6.6, 4.75, 2.1]\n",
      "Face 30 0 [5.8, 5.75, 2.1]\n",
      "Face 30 1 [5.8, 5.75, 0]\n",
      "Face 30 2 [5.8, 6.45, 0]\n",
      "Face 30 3 [5.8, 6.45, 2.1]\n",
      "Face 76 0 [5.6, 4.2, 2.1]\n",
      "Face 76 1 [5.6, 4.2, 0]\n",
      "Face 76 2 [4.9, 4.2, 0]\n",
      "Face 76 3 [4.9, 4.2, 2.1]\n",
      "Face 99 0 [0, 4.7, 2.1]\n",
      "Face 99 1 [0, 4.7, 0]\n",
      "Face 99 2 [0, 5.4, 0]\n",
      "Face 99 3 [0, 5.4, 2.1]\n",
      "Face 3 0 [0, 5.4, 2.1]\n",
      "Face 3 1 [0, 5.4, 0]\n",
      "Face 3 2 [0, 4.7, 0]\n",
      "Face 3 3 [0, 4.7, 2.1]\n",
      "Face 6 0 [1.4, 7, 2.1]\n",
      "Face 6 1 [1.4, 7, 0]\n",
      "Face 6 2 [1.4, 6.3, 0]\n",
      "Face 6 3 [1.4, 6.3, 2.1]\n",
      "Face 20 0 [4.9, 4.2, 2.1]\n",
      "Face 20 1 [4.9, 4.2, 0]\n",
      "Face 20 2 [5.6, 4.2, 0]\n",
      "Face 20 3 [5.6, 4.2, 2.1]\n",
      "Face 14 0 [6.55, 5.6, 2.1]\n",
      "Face 14 1 [6.55, 5.6, 0]\n",
      "Face 14 2 [5.85, 5.6, 0]\n",
      "Face 14 3 [5.85, 5.6, 2.1]\n",
      "Face 18 0 [5.85, 4.2, 2.1]\n",
      "Face 18 1 [5.85, 4.2, 0]\n",
      "Face 18 2 [6.55, 4.2, 0]\n",
      "Face 18 3 [6.55, 4.2, 2.1]\n",
      "Face 16 0 [6.6, 4.75, 2.1]\n",
      "Face 16 1 [6.6, 4.75, 0]\n",
      "Face 16 2 [6.6, 5.45, 0]\n",
      "Face 16 3 [6.6, 5.45, 2.1]\n"
     ]
    }
   ],
   "source": [
    "# Obtener todas las superficies\n",
    "superficies = osm.getSurfaces()\n",
    "\n",
    "# Filtrar las subsuperficies que son puertas\n",
    "puertas = []\n",
    "for superficie in superficies:\n",
    "    for subsuperficie in superficie.subSurfaces():\n",
    "        if subsuperficie.subSurfaceType() == \"Door\":\n",
    "            puertas.append(subsuperficie)\n",
    "\n",
    "# # Imprimir los nombres de las subsuperficies de puertas\n",
    "for puerta in puertas:\n",
    "    vertices = puerta.vertices()\n",
    "    for i,vertice in enumerate(vertices):\n",
    "        print(puerta.name().get(),i,vertice)\n"
   ]
  },
  {
   "cell_type": "code",
   "execution_count": 5,
   "metadata": {},
   "outputs": [
    {
     "name": "stdout",
     "output_type": "stream",
     "text": [
      "Face 48 y  Face 57\n",
      "Face 36 y  Face 6\n",
      "Face 55 y  Face 30\n",
      "Face 53 y  Face 14\n",
      "Face 86 y  Face 18\n",
      "Face 70 y  Face 16\n",
      "Face 76 y  Face 20\n",
      "Face 99 y  Face 3\n"
     ]
    }
   ],
   "source": [
    "\n",
    "# Función para obtener un conjunto de coordenadas de una puerta\n",
    "def obtener_coordenadas(puerta):\n",
    "    vertices = puerta.vertices()\n",
    "    coordenadas = set()\n",
    "    for vertex in vertices:\n",
    "        coordenadas.add((vertex.x(), vertex.y(), vertex.z()))\n",
    "    return coordenadas\n",
    "\n",
    "# Crear un diccionario para almacenar las coordenadas de cada puerta\n",
    "puerta_coords = {}\n",
    "for puerta in puertas:\n",
    "    nombre = puerta.name().get()\n",
    "    coords = obtener_coordenadas(puerta)\n",
    "    puerta_coords[nombre] = coords\n",
    "    # print(f\"Puerta ({nombre}): {coords}\")\n",
    "\n",
    "# Comparar cada puerta con el resto para identificar pares con coordenadas iguales\n",
    "pares = []\n",
    "nombres_puertas = list(puerta_coords.keys())\n",
    "for i in range(len(nombres_puertas)):\n",
    "    for j in range(i + 1, len(nombres_puertas)):\n",
    "        if puerta_coords[nombres_puertas[i]] == puerta_coords[nombres_puertas[j]]:\n",
    "            pares.append((nombres_puertas[i], nombres_puertas[j]))\n",
    "\n",
    "# Imprimir los pares de puertas que tienen las mismas coordenadas\n",
    "for par in pares:\n",
    "    print(f\"{par[0]} y  {par[1]}\")\n"
   ]
  },
  {
   "cell_type": "code",
   "execution_count": null,
   "metadata": {},
   "outputs": [],
   "source": []
  }
 ],
 "metadata": {
  "interpreter": {
   "hash": "ac59ebe37160ed0dfa835113d9b8498d9f09ceb179beaac4002f036b9467c963"
  },
  "kernelspec": {
   "display_name": "Python 3 (ipykernel)",
   "language": "python",
   "name": "python3"
  },
  "language_info": {
   "codemirror_mode": {
    "name": "ipython",
    "version": 3
   },
   "file_extension": ".py",
   "mimetype": "text/x-python",
   "name": "python",
   "nbconvert_exporter": "python",
   "pygments_lexer": "ipython3",
   "version": "3.12.3"
  }
 },
 "nbformat": 4,
 "nbformat_minor": 4
}
