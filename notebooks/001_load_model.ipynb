{
 "cells": [
  {
   "cell_type": "code",
   "execution_count": 1,
   "metadata": {},
   "outputs": [],
   "source": [
    "import openstudio\n"
   ]
  },
  {
   "cell_type": "code",
   "execution_count": 2,
   "metadata": {},
   "outputs": [
    {
     "name": "stdout",
     "output_type": "stream",
     "text": [
      "['SalaComedor', 'Escaleras', 'Cocina', 'RPrincipal', 'Recamara2', 'Closet', 'Banio2', 'Banio', 'Recamara3']\n"
     ]
    },
    {
     "data": {
      "text/plain": [
       "['Face 57',\n",
       " 'Face 53',\n",
       " 'Face 90',\n",
       " 'Face 108',\n",
       " 'Face 59',\n",
       " 'Face 14',\n",
       " 'Face 66',\n",
       " 'Face 3',\n",
       " 'Face 46',\n",
       " 'Face 6',\n",
       " 'Face 61',\n",
       " 'Face 55',\n",
       " 'Face 48',\n",
       " 'Face 86',\n",
       " 'Face 70',\n",
       " 'Face 41',\n",
       " 'Face 80',\n",
       " 'Face 30',\n",
       " 'Face 76',\n",
       " 'Face 36',\n",
       " 'Face 99',\n",
       " 'Face 101',\n",
       " 'Face 92',\n",
       " 'Face 8',\n",
       " 'Face 20',\n",
       " 'Face 18',\n",
       " 'Face 16',\n",
       " 'Face 24']"
      ]
     },
     "execution_count": 2,
     "metadata": {},
     "output_type": "execute_result"
    }
   ],
   "source": [
    "\n",
    "translator = openstudio.osversion.VersionTranslator()\n",
    "osm = translator.loadModel(\"../osm/999_fixing_doors.osm\").get()\n",
    "\n",
    "zones = [zone.name().get() for zone in openstudio.model.getThermalZones(osm)]\n",
    "print(zones)\n",
    "\n",
    "\n",
    "superficies = [superficie.name().get()  for superficie in openstudio.model.getSubSurfaces(osm)]\n",
    "superficies"
   ]
  },
  {
   "cell_type": "code",
   "execution_count": 3,
   "metadata": {},
   "outputs": [
    {
     "name": "stdout",
     "output_type": "stream",
     "text": [
      "Face 48\n",
      "Face 57\n",
      "Face 36\n",
      "Face 55\n",
      "Face 53\n",
      "Face 86\n",
      "Face 70\n",
      "Face 30\n",
      "Face 76\n",
      "Face 99\n",
      "Face 3\n",
      "Face 6\n",
      "Face 20\n",
      "Face 14\n",
      "Face 18\n",
      "Face 16\n"
     ]
    }
   ],
   "source": [
    "# Obtener todas las superficies\n",
    "superficies = osm.getSurfaces()\n",
    "\n",
    "# Filtrar las subsuperficies que son puertas\n",
    "puertas = []\n",
    "for superficie in superficies:\n",
    "    for subsuperficie in superficie.subSurfaces():\n",
    "        if subsuperficie.subSurfaceType() == \"Door\":\n",
    "            puertas.append(subsuperficie)\n",
    "\n",
    "# Imprimir los nombres de las subsuperficies de puertas\n",
    "for puerta in puertas:\n",
    "    print(puerta.name().get())\n"
   ]
  },
  {
   "cell_type": "code",
   "execution_count": 4,
   "metadata": {},
   "outputs": [
    {
     "name": "stdout",
     "output_type": "stream",
     "text": [
      "Puerta 1 (Face 48): {(5.8, 7.3, 0.0), (5.8, 6.6, 0.0), (5.8, 7.3, 2.1), (5.8, 6.6, 2.1)}\n",
      "Puerta 2 (Face 57): {(5.8, 7.3, 0.0), (5.8, 6.6, 0.0), (5.8, 7.3, 2.1), (5.8, 6.6, 2.1)}\n",
      "Puerta 3 (Face 36): {(1.4, 7.0, 0.0), (1.4, 6.3, 2.1), (1.4, 7.0, 2.1), (1.4, 6.3, 0.0)}\n",
      "Puerta 4 (Face 55): {(5.8, 5.75, 0.0), (5.8, 6.45, 2.1), (5.8, 5.75, 2.1), (5.8, 6.45, 0.0)}\n",
      "Puerta 5 (Face 53): {(6.55, 5.6, 0.0), (5.85, 5.6, 0.0), (6.55, 5.6, 2.1), (5.85, 5.6, 2.1)}\n",
      "Puerta 6 (Face 86): {(5.85, 4.2, 0.0), (6.55, 4.2, 2.1), (5.85, 4.2, 2.1), (6.55, 4.2, 0.0)}\n",
      "Puerta 7 (Face 70): {(6.6, 5.45, 2.1), (6.6, 4.75, 0.0), (6.6, 5.45, 0.0), (6.6, 4.75, 2.1)}\n",
      "Puerta 8 (Face 30): {(5.8, 5.75, 0.0), (5.8, 6.45, 2.1), (5.8, 5.75, 2.1), (5.8, 6.45, 0.0)}\n",
      "Puerta 9 (Face 76): {(4.9, 4.2, 0.0), (5.6, 4.2, 0.0), (5.6, 4.2, 2.1), (4.9, 4.2, 2.1)}\n",
      "Puerta 10 (Face 99): {(0.0, 5.4, 2.1), (0.0, 4.7, 2.1), (0.0, 5.4, 0.0), (0.0, 4.7, 0.0)}\n",
      "Puerta 11 (Face 3): {(0.0, 5.4, 2.1), (0.0, 4.7, 2.1), (0.0, 5.4, 0.0), (0.0, 4.7, 0.0)}\n",
      "Puerta 12 (Face 6): {(1.4, 7.0, 0.0), (1.4, 6.3, 2.1), (1.4, 7.0, 2.1), (1.4, 6.3, 0.0)}\n",
      "Puerta 13 (Face 20): {(5.6, 4.2, 2.1), (4.9, 4.2, 0.0), (5.6, 4.2, 0.0), (4.9, 4.2, 2.1)}\n",
      "Puerta 14 (Face 14): {(6.55, 5.6, 0.0), (5.85, 5.6, 0.0), (6.55, 5.6, 2.1), (5.85, 5.6, 2.1)}\n",
      "Puerta 15 (Face 18): {(5.85, 4.2, 0.0), (6.55, 4.2, 2.1), (5.85, 4.2, 2.1), (6.55, 4.2, 0.0)}\n",
      "Puerta 16 (Face 16): {(6.6, 4.75, 2.1), (6.6, 5.45, 0.0), (6.6, 4.75, 0.0), (6.6, 5.45, 2.1)}\n",
      "\n",
      "Pares de puertas con las mismas coordenadas:\n",
      "Puerta 1 y Puerta 2\n",
      "Puerta 3 y Puerta 12\n",
      "Puerta 4 y Puerta 8\n",
      "Puerta 5 y Puerta 14\n",
      "Puerta 6 y Puerta 15\n",
      "Puerta 7 y Puerta 16\n",
      "Puerta 9 y Puerta 13\n",
      "Puerta 10 y Puerta 11\n"
     ]
    }
   ],
   "source": [
    "\n",
    "# Función para obtener un conjunto de coordenadas de una puerta\n",
    "def obtener_coordenadas(puerta):\n",
    "    vertices = puerta.vertices()\n",
    "    coordenadas = set()\n",
    "    for vertex in vertices:\n",
    "        coordenadas.add((vertex.x(), vertex.y(), vertex.z()))\n",
    "    return coordenadas\n",
    "    \n",
    "\n",
    "# Crear un diccionario para almacenar las coordenadas de cada puerta\n",
    "puerta_coords = {}\n",
    "for i, puerta in enumerate(puertas):\n",
    "    coords = obtener_coordenadas(puerta)\n",
    "    puerta_coords[i] = coords\n",
    "    print(f\"Puerta {i+1} ({puerta.name().get()}): {coords}\")\n",
    "\n",
    "# Comparar cada puerta con el resto para identificar pares con coordenadas iguales\n",
    "pares = []\n",
    "for i in range(len(puertas)):\n",
    "    for j in range(i + 1, len(puertas)):\n",
    "        if puerta_coords[i] == puerta_coords[j]:\n",
    "            pares.append((i + 1, j + 1))  # Usamos i+1 y j+1 para que la numeración sea a partir de 1\n",
    "\n",
    "# Imprimir los pares de puertas que tienen las mismas coordenadas\n",
    "print(\"\\nPares de puertas con las mismas coordenadas:\")\n",
    "for par in pares:\n",
    "    print(f\"Puerta {par[0]} y Puerta {par[1]}\")"
   ]
  },
  {
   "cell_type": "code",
   "execution_count": 5,
   "metadata": {},
   "outputs": [
    {
     "data": {
      "text/plain": [
       "{0: {(5.8, 6.6, 0.0), (5.8, 6.6, 2.1), (5.8, 7.3, 0.0), (5.8, 7.3, 2.1)},\n",
       " 1: {(5.8, 6.6, 0.0), (5.8, 6.6, 2.1), (5.8, 7.3, 0.0), (5.8, 7.3, 2.1)},\n",
       " 2: {(1.4, 6.3, 0.0), (1.4, 6.3, 2.1), (1.4, 7.0, 0.0), (1.4, 7.0, 2.1)},\n",
       " 3: {(5.8, 5.75, 0.0), (5.8, 5.75, 2.1), (5.8, 6.45, 0.0), (5.8, 6.45, 2.1)},\n",
       " 4: {(5.85, 5.6, 0.0), (5.85, 5.6, 2.1), (6.55, 5.6, 0.0), (6.55, 5.6, 2.1)},\n",
       " 5: {(5.85, 4.2, 0.0), (5.85, 4.2, 2.1), (6.55, 4.2, 0.0), (6.55, 4.2, 2.1)},\n",
       " 6: {(6.6, 4.75, 0.0), (6.6, 4.75, 2.1), (6.6, 5.45, 0.0), (6.6, 5.45, 2.1)},\n",
       " 7: {(5.8, 5.75, 0.0), (5.8, 5.75, 2.1), (5.8, 6.45, 0.0), (5.8, 6.45, 2.1)},\n",
       " 8: {(4.9, 4.2, 0.0), (4.9, 4.2, 2.1), (5.6, 4.2, 0.0), (5.6, 4.2, 2.1)},\n",
       " 9: {(0.0, 4.7, 0.0), (0.0, 4.7, 2.1), (0.0, 5.4, 0.0), (0.0, 5.4, 2.1)},\n",
       " 10: {(0.0, 4.7, 0.0), (0.0, 4.7, 2.1), (0.0, 5.4, 0.0), (0.0, 5.4, 2.1)},\n",
       " 11: {(1.4, 6.3, 0.0), (1.4, 6.3, 2.1), (1.4, 7.0, 0.0), (1.4, 7.0, 2.1)},\n",
       " 12: {(4.9, 4.2, 0.0), (4.9, 4.2, 2.1), (5.6, 4.2, 0.0), (5.6, 4.2, 2.1)},\n",
       " 13: {(5.85, 5.6, 0.0), (5.85, 5.6, 2.1), (6.55, 5.6, 0.0), (6.55, 5.6, 2.1)},\n",
       " 14: {(5.85, 4.2, 0.0), (5.85, 4.2, 2.1), (6.55, 4.2, 0.0), (6.55, 4.2, 2.1)},\n",
       " 15: {(6.6, 4.75, 0.0), (6.6, 4.75, 2.1), (6.6, 5.45, 0.0), (6.6, 5.45, 2.1)}}"
      ]
     },
     "execution_count": 5,
     "metadata": {},
     "output_type": "execute_result"
    }
   ],
   "source": [
    "puerta_coords"
   ]
  }
 ],
 "metadata": {
  "interpreter": {
   "hash": "ac59ebe37160ed0dfa835113d9b8498d9f09ceb179beaac4002f036b9467c963"
  },
  "kernelspec": {
   "display_name": "Python 3 (ipykernel)",
   "language": "python",
   "name": "python3"
  },
  "language_info": {
   "codemirror_mode": {
    "name": "ipython",
    "version": 3
   },
   "file_extension": ".py",
   "mimetype": "text/x-python",
   "name": "python",
   "nbconvert_exporter": "python",
   "pygments_lexer": "ipython3",
   "version": "3.12.3"
  }
 },
 "nbformat": 4,
 "nbformat_minor": 4
}
