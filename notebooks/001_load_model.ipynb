{
 "cells": [
  {
   "cell_type": "code",
   "execution_count": 1,
   "metadata": {},
   "outputs": [],
   "source": [
    "import openstudio\n"
   ]
  },
  {
   "cell_type": "code",
   "execution_count": 2,
   "metadata": {},
   "outputs": [],
   "source": [
    "\n",
    "translator = openstudio.osversion.VersionTranslator()\n",
    "osm = translator.loadModel(\"../osm/009_condiciones_adiabaticas.osm\").get()\n",
    "zones = [zone.name().get() for zone in openstudio.model.getThermalZones(osm)]\n",
    "# print(zones)\n",
    "\n",
    "\n",
    "superficies = [superficie.name().get()  for superficie in openstudio.model.getSubSurfaces(osm)]\n",
    "# superficies"
   ]
  },
  {
   "cell_type": "code",
   "execution_count": 3,
   "metadata": {},
   "outputs": [],
   "source": [
    "# Obtener todas las superficies\n",
    "superficies = osm.getSurfaces()\n",
    "\n",
    "# Filtrar las subsuperficies que son puertas\n",
    "puertas = []\n",
    "for superficie in superficies:\n",
    "    for subsuperficie in superficie.subSurfaces():\n",
    "        if subsuperficie.subSurfaceType() == \"Door\":\n",
    "            puertas.append(subsuperficie)\n",
    "\n",
    "# # Imprimir los nombres de las subsuperficies de puertas\n",
    "# for puerta in puertas:\n",
    "#     vertices = puerta.vertices()\n",
    "#     for i,vertice in enumerate(vertices):\n",
    "#         print(puerta.name().get(),i,vertice)\n"
   ]
  },
  {
   "cell_type": "code",
   "execution_count": 4,
   "metadata": {},
   "outputs": [
    {
     "name": "stdout",
     "output_type": "stream",
     "text": [
      "Face 48 y  Face 57\n",
      "Face 36 y  Face 6\n",
      "Face 55 y  Face 30\n",
      "Face 53 y  Face 14\n",
      "Face 86 y  Face 18\n",
      "Face 70 y  Face 16\n",
      "Face 76 y  Face 20\n",
      "Face 99 y  Face 3\n"
     ]
    }
   ],
   "source": [
    "\n",
    "# Función para obtener un conjunto de coordenadas de una puerta\n",
    "def obtener_coordenadas(puerta):\n",
    "    vertices = puerta.vertices()\n",
    "    coordenadas = set()\n",
    "    for vertex in vertices:\n",
    "        coordenadas.add((vertex.x(), vertex.y(), vertex.z()))\n",
    "    return coordenadas\n",
    "\n",
    "# Crear un diccionario para almacenar las coordenadas de cada puerta\n",
    "puerta_coords = {}\n",
    "for puerta in puertas:\n",
    "    nombre = puerta.name().get()\n",
    "    coords = obtener_coordenadas(puerta)\n",
    "    puerta_coords[nombre] = coords\n",
    "    # print(f\"Puerta ({nombre}): {coords}\")\n",
    "\n",
    "# Comparar cada puerta con el resto para identificar pares con coordenadas iguales\n",
    "pares = []\n",
    "nombres_puertas = list(puerta_coords.keys())\n",
    "for i in range(len(nombres_puertas)):\n",
    "    for j in range(i + 1, len(nombres_puertas)):\n",
    "        if puerta_coords[nombres_puertas[i]] == puerta_coords[nombres_puertas[j]]:\n",
    "            pares.append((nombres_puertas[i], nombres_puertas[j]))\n",
    "\n",
    "# Imprimir los pares de puertas que tienen las mismas coordenadas\n",
    "for par in pares:\n",
    "    print(f\"{par[0]} y  {par[1]}\")\n"
   ]
  }
 ],
 "metadata": {
  "interpreter": {
   "hash": "ac59ebe37160ed0dfa835113d9b8498d9f09ceb179beaac4002f036b9467c963"
  },
  "kernelspec": {
   "display_name": "Python 3 (ipykernel)",
   "language": "python",
   "name": "python3"
  },
  "language_info": {
   "codemirror_mode": {
    "name": "ipython",
    "version": 3
   },
   "file_extension": ".py",
   "mimetype": "text/x-python",
   "name": "python",
   "nbconvert_exporter": "python",
   "pygments_lexer": "ipython3",
   "version": "3.12.3"
  }
 },
 "nbformat": 4,
 "nbformat_minor": 4
}
