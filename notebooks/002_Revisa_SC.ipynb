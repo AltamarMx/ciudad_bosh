{
 "cells": [
  {
   "cell_type": "code",
   "execution_count": 1,
   "id": "16cf99ba-6a36-4ca0-95cc-dab580bcdeb8",
   "metadata": {},
   "outputs": [],
   "source": [
    "from iertools.read import read_sql\n",
    "import pandas as pd\n",
    "import openstudio as opns"
   ]
  },
  {
   "cell_type": "code",
   "execution_count": 4,
   "id": "5f94b41c-0e81-4a5d-8e0b-ecbf706a132a",
   "metadata": {},
   "outputs": [],
   "source": [
    "# Cargar el modelo\n",
    "translator = opns.osversion.VersionTranslator()\n",
    "osm = translator.loadModel(\"../osm/010_fixed_subsurfaces.osm\").get()\n",
    "\n",
    "# Obtener todas las construcciones en el modelo\n",
    "scs = osm.getConstructions()\n",
    "surfaces = osm.getSurfaces()\n"
   ]
  },
  {
   "cell_type": "code",
   "execution_count": 5,
   "id": "89d0fa0e-2759-4030-a6bd-2d26b67088d5",
   "metadata": {},
   "outputs": [
    {
     "name": "stdout",
     "output_type": "stream",
     "text": [
      "OS:Material,\n",
      "  {de029bb0-5cc0-4e2b-aa11-b8835e23f78d}, !- Handle\n",
      "  CAD,                                    !- Name\n",
      "  Rough,                                  !- Roughness\n",
      "  0.1,                                    !- Thickness {m}\n",
      "  2,                                      !- Conductivity {W/m-K}\n",
      "  2500,                                   !- Density {kg/m3}\n",
      "  1000;                                   !- Specific Heat {J/kg-K}\n",
      "\n",
      "\n",
      "OS:Material,\n",
      "  {de029bb0-5cc0-4e2b-aa11-b8835e23f78d}, !- Handle\n",
      "  CAD,                                    !- Name\n",
      "  Rough,                                  !- Roughness\n",
      "  0.1,                                    !- Thickness {m}\n",
      "  2,                                      !- Conductivity {W/m-K}\n",
      "  2500,                                   !- Density {kg/m3}\n",
      "  1000;                                   !- Specific Heat {J/kg-K}\n",
      "\n",
      "\n"
     ]
    }
   ],
   "source": [
    "lista = ['CAD']\n",
    "for construccion in scs:\n",
    "    capas = construccion.layers()\n",
    "    for capa in capas:\n",
    "        if capa.nameString() in lista:\n",
    "            print(capa)"
   ]
  }
 ],
 "metadata": {
  "kernelspec": {
   "display_name": "Python 3 (ipykernel)",
   "language": "python",
   "name": "python3"
  },
  "language_info": {
   "codemirror_mode": {
    "name": "ipython",
    "version": 3
   },
   "file_extension": ".py",
   "mimetype": "text/x-python",
   "name": "python",
   "nbconvert_exporter": "python",
   "pygments_lexer": "ipython3",
   "version": "3.12.3"
  }
 },
 "nbformat": 4,
 "nbformat_minor": 5
}
